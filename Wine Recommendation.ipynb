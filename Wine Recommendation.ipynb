{
 "cells": [
  {
   "cell_type": "code",
   "execution_count": null,
   "metadata": {},
   "outputs": [],
   "source": [
    "#Content Based recommender system"
   ]
  },
  {
   "cell_type": "code",
   "execution_count": null,
   "metadata": {},
   "outputs": [],
   "source": [
    "## here we are trying to build a recommender system to suggest a list of wines \n",
    "#based on the selected wine's description"
   ]
  },
  {
   "cell_type": "code",
   "execution_count": 3,
   "metadata": {},
   "outputs": [],
   "source": [
    "import pandas as pd\n",
    "import numpy as np"
   ]
  },
  {
   "cell_type": "code",
   "execution_count": 9,
   "metadata": {},
   "outputs": [
    {
     "name": "stdout",
     "output_type": "stream",
     "text": [
      "(20000, 13)\n"
     ]
    },
    {
     "data": {
      "text/plain": [
       "Index(['country', 'description', 'designation', 'points', 'price', 'province',\n",
       "       'region_1', 'region_2', 'taster_name', 'taster_twitter_handle', 'title',\n",
       "       'variety', 'winery'],\n",
       "      dtype='object')"
      ]
     },
     "execution_count": 9,
     "metadata": {},
     "output_type": "execute_result"
    }
   ],
   "source": [
    "#importing the dataset\n",
    "data = pd.read_csv('winemag-data-130k-v2.csv')\n",
    "data = data.drop(data.columns[0],axis = 1)\n",
    "data = data.head(20000)#limitting the rows to 20,0000\n",
    "print(data.shape)\n",
    "data['description'].head(3)\n",
    "data.columns\n",
    "\n"
   ]
  },
  {
   "cell_type": "code",
   "execution_count": null,
   "metadata": {},
   "outputs": [],
   "source": [
    "#computing word vectors(TF-IDF) for the \"description\""
   ]
  },
  {
   "cell_type": "code",
   "execution_count": 7,
   "metadata": {},
   "outputs": [
    {
     "data": {
      "text/plain": [
       "(20000, 15198)"
      ]
     },
     "execution_count": 7,
     "metadata": {},
     "output_type": "execute_result"
    }
   ],
   "source": [
    "from sklearn.feature_extraction.text import TfidfVectorizer\n",
    "idf = TfidfVectorizer(stop_words='english') # removing the stop words \n",
    "data['description'] = data['description'].fillna(' ')\n",
    "\n",
    "sm = idf.fit_transform(data['description']) # building the sparse matrix\n",
    "sm.shape"
   ]
  },
  {
   "cell_type": "code",
   "execution_count": null,
   "metadata": {},
   "outputs": [],
   "source": [
    "#using this sparse matrix we can calculate the similarity score\n",
    "#we can compute the cosine-similarity score using the dop product of sm"
   ]
  },
  {
   "cell_type": "code",
   "execution_count": 8,
   "metadata": {},
   "outputs": [],
   "source": [
    "from sklearn.metrics.pairwise import linear_kernel\n",
    "cos_sim = linear_kernel(sm,sm)"
   ]
  },
  {
   "cell_type": "code",
   "execution_count": null,
   "metadata": {},
   "outputs": [],
   "source": [
    "#Now we need an index to identify a wineyard name ['title'] "
   ]
  },
  {
   "cell_type": "code",
   "execution_count": 41,
   "metadata": {},
   "outputs": [],
   "source": [
    "ix = pd.Series(data.index,index = data['title'])"
   ]
  },
  {
   "cell_type": "code",
   "execution_count": null,
   "metadata": {},
   "outputs": [],
   "source": [
    "#write a function that takes in a wine name as input and suggests 10 most similar wine"
   ]
  },
  {
   "cell_type": "code",
   "execution_count": 48,
   "metadata": {},
   "outputs": [],
   "source": [
    "def element(x):\n",
    "    return x[1]\n",
    "\n",
    "def recommend_wine(title, cos_sim = cos_sim):\n",
    "    idx = ix[title] # get the index of the title\n",
    "    sim_scores = list(enumerate(cos_sim[idx])) # Get the pairwsie similarity scores of all wines with that wine\n",
    "    sim_scores = sorted(sim_scores,key= element, reverse= True) # sort the movies based on the sim_score\n",
    "    sim_scores = sim_scores[1:11] # get the first 10 from the list\n",
    "    \n",
    "    wine_ix = [ i[0] for i in sim_scores] # get the indexes of the wine\n",
    "    print( data['title'].iloc[wine_ix])\n",
    "    "
   ]
  },
  {
   "cell_type": "code",
   "execution_count": 43,
   "metadata": {},
   "outputs": [
    {
     "data": {
      "text/plain": [
       "'Trimbach 2012 Gewurztraminer (Alsace)'"
      ]
     },
     "execution_count": 43,
     "metadata": {},
     "output_type": "execute_result"
    }
   ],
   "source": [
    "data.title[7]"
   ]
  },
  {
   "cell_type": "code",
   "execution_count": 49,
   "metadata": {},
   "outputs": [
    {
     "name": "stdout",
     "output_type": "stream",
     "text": [
      "1605     Mills Reef 2014 Reserve Sauvignon Blanc (Hawke...\n",
      "7652     Vignerons de Bel Air 2010 Automne Festif  (Côt...\n",
      "13492    Vignerons de Bel Air 2010 Automne Festif  (Côt...\n",
      "5743     Oak Farm 2015 Mohr-Fry Ranches Sauvignon Blanc...\n",
      "19486        Poças 2006 Coroa D'ouro Reserva White (Douro)\n",
      "3163      Dopff & Irion 2010 Tradition Pinot Gris (Alsace)\n",
      "9        Jean-Baptiste Adam 2012 Les Natures Pinot Gris...\n",
      "1090     Churchill's 2015 Quinta da Gricha Vintage  (Port)\n",
      "2298     Edmonds Winery 2007 Solstice Red (Horse Heaven...\n",
      "9008         Ramos-Pinto 2003 Late Bottled Vintage  (Port)\n",
      "Name: title, dtype: object\n"
     ]
    }
   ],
   "source": [
    "recommend_wine('Trimbach 2012 Gewurztraminer (Alsace)')"
   ]
  },
  {
   "cell_type": "code",
   "execution_count": 50,
   "metadata": {},
   "outputs": [
    {
     "data": {
      "text/plain": [
       "'Roederer Estate NV Brut Sparkling (Anderson Valley)'"
      ]
     },
     "execution_count": 50,
     "metadata": {},
     "output_type": "execute_result"
    }
   ],
   "source": [
    "data.title[456]"
   ]
  },
  {
   "cell_type": "code",
   "execution_count": 51,
   "metadata": {},
   "outputs": [
    {
     "name": "stdout",
     "output_type": "stream",
     "text": [
      "9541     Iron Horse 2013 Wedding Cuvée Sparkling (Green...\n",
      "14603           Mumm Napa 2001 DVX Sparkling (Napa Valley)\n",
      "2089               Soutiran NV Brut Grand Cru  (Champagne)\n",
      "10748           Mumm Napa 2002 DVX Sparkling (Napa Valley)\n",
      "2353     Michael Pozzan 2011 Annabella Special Selectio...\n",
      "14054    Collection 35 2008 Brut Sparkling (Santa Barba...\n",
      "884      J Vineyards & Winery NV Brut Rose Sparkling (R...\n",
      "4122     Drappier NV Rosé Brut Nature Pinot Noir (Champ...\n",
      "8224     Domaine Chandon NV étoile Rosé Sparkling (Sono...\n",
      "16310    Billecart-Salmon 2006 Cuvée Elisabeth Salmon B...\n",
      "Name: title, dtype: object\n"
     ]
    }
   ],
   "source": [
    "recommend_wine('Roederer Estate NV Brut Sparkling (Anderson Valley)')"
   ]
  },
  {
   "cell_type": "code",
   "execution_count": null,
   "metadata": {},
   "outputs": [],
   "source": []
  }
 ],
 "metadata": {
  "kernelspec": {
   "display_name": "Python 3",
   "language": "python",
   "name": "python3"
  },
  "language_info": {
   "codemirror_mode": {
    "name": "ipython",
    "version": 3
   },
   "file_extension": ".py",
   "mimetype": "text/x-python",
   "name": "python",
   "nbconvert_exporter": "python",
   "pygments_lexer": "ipython3",
   "version": "3.6.5"
  }
 },
 "nbformat": 4,
 "nbformat_minor": 2
}
